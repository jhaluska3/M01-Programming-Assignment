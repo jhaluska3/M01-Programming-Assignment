{
 "cells": [
  {
   "cell_type": "code",
   "execution_count": 13,
   "id": "b70c25d2",
   "metadata": {},
   "outputs": [
    {
     "name": "stdout",
     "output_type": "stream",
     "text": [
      "3600\n",
      "86400\n",
      "24.0\n",
      "24\n"
     ]
    }
   ],
   "source": [
    "seconds_per_minute = 60 #3.1 = 3600 seconds per hour\n",
    "minutes_per_hour = 60\n",
    "seconds_per_hour = seconds_per_minute * minutes_per_hour #3.2 \n",
    "print (seconds_per_hour)\n",
    "\n",
    "seconds_per_day = seconds_per_hour * 24 #3.3/3.4 86400 seconds per day\n",
    "print (seconds_per_day)\n",
    "\n",
    "q3_5 = seconds_per_day / seconds_per_hour\n",
    "print (q3_5) #3.5 = 24.0\n",
    "\n",
    "q3_6 = seconds_per_day // seconds_per_hour\n",
    "print (q3_6) #3.6 = 24 (this answer agrees with the floating point from 3.5)\n",
    "\n",
    "\n",
    "\n",
    "\n"
   ]
  },
  {
   "cell_type": "code",
   "execution_count": null,
   "id": "93c346f3",
   "metadata": {},
   "outputs": [],
   "source": []
  }
 ],
 "metadata": {
  "kernelspec": {
   "display_name": "Python 3 (ipykernel)",
   "language": "python",
   "name": "python3"
  },
  "language_info": {
   "codemirror_mode": {
    "name": "ipython",
    "version": 3
   },
   "file_extension": ".py",
   "mimetype": "text/x-python",
   "name": "python",
   "nbconvert_exporter": "python",
   "pygments_lexer": "ipython3",
   "version": "3.9.13"
  }
 },
 "nbformat": 4,
 "nbformat_minor": 5
}
